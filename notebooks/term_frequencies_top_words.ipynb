{
 "cells": [
  {
   "cell_type": "markdown",
   "metadata": {},
   "source": [
    "# Classifying by using top words intersections"
   ]
  },
  {
   "cell_type": "code",
   "execution_count": 52,
   "metadata": {
    "collapsed": true
   },
   "outputs": [],
   "source": [
    "import pandas as pd\n",
    "\n",
    "df = pd.concat(\n",
    "    (\n",
    "        pd.read_csv('../features/metadata/tf_descriptions.csv', index_col=0),\n",
    "        pd.read_csv('../features/metadata/tf_keywords.csv', index_col=0),\n",
    "        #pd.read_csv('../features/metadata/tf_titles.csv', index_col=0),\n",
    "    ),\n",
    "    axis=1\n",
    ")\n",
    "df = df.groupby(df.columns, axis=1).sum() # Drop duplicate columns\n",
    "df['tag'] = pd.read_csv('../features/tags.csv', index_col=0)['tag_name']"
   ]
  },
  {
   "cell_type": "markdown",
   "metadata": {},
   "source": [
    "Split train-test"
   ]
  },
  {
   "cell_type": "code",
   "execution_count": 92,
   "metadata": {
    "collapsed": false
   },
   "outputs": [],
   "source": [
    "import numpy as np\n",
    "\n",
    "train_indices = np.random.rand(len(df)) < 0.8\n",
    "\n",
    "train = df[train_indices]\n",
    "test = df[~train_indices]"
   ]
  },
  {
   "cell_type": "code",
   "execution_count": 95,
   "metadata": {
    "collapsed": false
   },
   "outputs": [],
   "source": [
    "top_words_per_tag = {\n",
    "    tag: set(group.drop('tag', axis=1).sum(axis=0).nlargest(35).index)\n",
    "    for tag, group in train.groupby('tag') # Notice this is done with the training set\n",
    "}"
   ]
  },
  {
   "cell_type": "code",
   "execution_count": 96,
   "metadata": {
    "collapsed": false
   },
   "outputs": [
    {
     "name": "stdout",
     "output_type": "stream",
     "text": [
      "0.711864406779661\n"
     ]
    }
   ],
   "source": [
    "predicted = [\n",
    "    sorted(\n",
    "        top_words_per_tag.items(),\n",
    "        key=lambda x: len(set.intersection(set(row[row > 0].index), x[1]))\n",
    "    )[-1][0]\n",
    "    for _, row in test.drop('tag', axis=1).iterrows()\n",
    "]\n",
    "\n",
    "precision = sum([\n",
    "        prediction == truth\n",
    "        for prediction, truth in zip(predicted, test['tag'].tolist())\n",
    "]) / len(predicted)\n",
    "\n",
    "print(precision)"
   ]
  },
  {
   "cell_type": "code",
   "execution_count": null,
   "metadata": {
    "collapsed": true
   },
   "outputs": [],
   "source": []
  }
 ],
 "metadata": {
  "kernelspec": {
   "display_name": "Python 3",
   "language": "python",
   "name": "python3"
  },
  "language_info": {
   "codemirror_mode": {
    "name": "ipython",
    "version": 3
   },
   "file_extension": ".py",
   "mimetype": "text/x-python",
   "name": "python",
   "nbconvert_exporter": "python",
   "pygments_lexer": "ipython3",
   "version": "3.5.2"
  }
 },
 "nbformat": 4,
 "nbformat_minor": 0
}
