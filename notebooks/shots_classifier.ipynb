{
 "cells": [
  {
   "cell_type": "code",
   "execution_count": 14,
   "metadata": {
    "collapsed": true
   },
   "outputs": [],
   "source": [
    "%matplotlib inline"
   ]
  },
  {
   "cell_type": "markdown",
   "metadata": {},
   "source": [
    "# Classifying on shots features using Random Forest"
   ]
  },
  {
   "cell_type": "code",
   "execution_count": 15,
   "metadata": {
    "collapsed": false
   },
   "outputs": [],
   "source": [
    "import numpy as np\n",
    "import pandas as pd\n",
    "\n",
    "df_shots_faces = pd.read_csv('../features/shots/faces_df.csv')"
   ]
  },
  {
   "cell_type": "code",
   "execution_count": 16,
   "metadata": {
    "collapsed": false
   },
   "outputs": [
    {
     "data": {
      "text/html": [
       "<div>\n",
       "<table border=\"1\" class=\"dataframe\">\n",
       "  <thead>\n",
       "    <tr style=\"text-align: right;\">\n",
       "      <th></th>\n",
       "      <th>Unnamed: 0</th>\n",
       "      <th>filename</th>\n",
       "      <th>shot</th>\n",
       "      <th>nb_faces</th>\n",
       "    </tr>\n",
       "  </thead>\n",
       "  <tbody>\n",
       "    <tr>\n",
       "      <th>0</th>\n",
       "      <td>0</td>\n",
       "      <td>Aabbey1-InvitationToSummer2009RabbinicalStudyS...</td>\n",
       "      <td>012.jpg</td>\n",
       "      <td>0</td>\n",
       "    </tr>\n",
       "    <tr>\n",
       "      <th>1</th>\n",
       "      <td>1</td>\n",
       "      <td>Aabbey1-RachelSabathBeitHalachmiThreeModelsOfT...</td>\n",
       "      <td>4797.jpg</td>\n",
       "      <td>1</td>\n",
       "    </tr>\n",
       "    <tr>\n",
       "      <th>2</th>\n",
       "      <td>2</td>\n",
       "      <td>Aabbey1-RachelSabathBeitHalachmiThreeModelsOfT...</td>\n",
       "      <td>9763.jpg</td>\n",
       "      <td>0</td>\n",
       "    </tr>\n",
       "    <tr>\n",
       "      <th>3</th>\n",
       "      <td>3</td>\n",
       "      <td>Aabbey1-ShalomHartmanInstitutesInnovativeTheol...</td>\n",
       "      <td>0083.jpg</td>\n",
       "      <td>0</td>\n",
       "    </tr>\n",
       "    <tr>\n",
       "      <th>4</th>\n",
       "      <td>4</td>\n",
       "      <td>Aabbey1-ShalomHartmanInstitutesInnovativeTheol...</td>\n",
       "      <td>3061.jpg</td>\n",
       "      <td>1</td>\n",
       "    </tr>\n",
       "  </tbody>\n",
       "</table>\n",
       "</div>"
      ],
      "text/plain": [
       "   Unnamed: 0                                           filename      shot  \\\n",
       "0           0  Aabbey1-InvitationToSummer2009RabbinicalStudyS...   012.jpg   \n",
       "1           1  Aabbey1-RachelSabathBeitHalachmiThreeModelsOfT...  4797.jpg   \n",
       "2           2  Aabbey1-RachelSabathBeitHalachmiThreeModelsOfT...  9763.jpg   \n",
       "3           3  Aabbey1-ShalomHartmanInstitutesInnovativeTheol...  0083.jpg   \n",
       "4           4  Aabbey1-ShalomHartmanInstitutesInnovativeTheol...  3061.jpg   \n",
       "\n",
       "   nb_faces  \n",
       "0         0  \n",
       "1         1  \n",
       "2         0  \n",
       "3         0  \n",
       "4         1  "
      ]
     },
     "execution_count": 16,
     "metadata": {},
     "output_type": "execute_result"
    }
   ],
   "source": [
    "df_shots_faces.head()"
   ]
  },
  {
   "cell_type": "code",
   "execution_count": 17,
   "metadata": {
    "collapsed": false
   },
   "outputs": [
    {
     "data": {
      "text/html": [
       "<div>\n",
       "<table border=\"1\" class=\"dataframe\">\n",
       "  <thead>\n",
       "    <tr style=\"text-align: right;\">\n",
       "      <th></th>\n",
       "      <th>filename</th>\n",
       "      <th>nb_faces_max</th>\n",
       "    </tr>\n",
       "  </thead>\n",
       "  <tbody>\n",
       "    <tr>\n",
       "      <th>0</th>\n",
       "      <td>Aabbey1-InvitationToSummer2009RabbinicalStudyS...</td>\n",
       "      <td>0</td>\n",
       "    </tr>\n",
       "    <tr>\n",
       "      <th>1</th>\n",
       "      <td>Aabbey1-RachelSabathBeitHalachmiThreeModelsOfT...</td>\n",
       "      <td>1</td>\n",
       "    </tr>\n",
       "    <tr>\n",
       "      <th>2</th>\n",
       "      <td>Aabbey1-ShalomHartmanInstitutesInnovativeTheol...</td>\n",
       "      <td>1</td>\n",
       "    </tr>\n",
       "    <tr>\n",
       "      <th>3</th>\n",
       "      <td>Acnethai-414</td>\n",
       "      <td>1</td>\n",
       "    </tr>\n",
       "    <tr>\n",
       "      <th>4</th>\n",
       "      <td>Acnethai-EP4HowToMakeUpForAcneFromBobbiBrown565</td>\n",
       "      <td>0</td>\n",
       "    </tr>\n",
       "  </tbody>\n",
       "</table>\n",
       "</div>"
      ],
      "text/plain": [
       "                                            filename  nb_faces_max\n",
       "0  Aabbey1-InvitationToSummer2009RabbinicalStudyS...             0\n",
       "1  Aabbey1-RachelSabathBeitHalachmiThreeModelsOfT...             1\n",
       "2  Aabbey1-ShalomHartmanInstitutesInnovativeTheol...             1\n",
       "3                                       Acnethai-414             1\n",
       "4    Acnethai-EP4HowToMakeUpForAcneFromBobbiBrown565             0"
      ]
     },
     "execution_count": 17,
     "metadata": {},
     "output_type": "execute_result"
    }
   ],
   "source": [
    "df_faces = df_shots_faces.groupby(['filename'])['nb_faces'].max().to_frame()\n",
    "df_faces.reset_index(level=0, inplace=True)\n",
    "df_faces.columns = ['filename', 'nb_faces_max']\n",
    "df_faces.head()"
   ]
  },
  {
   "cell_type": "code",
   "execution_count": 18,
   "metadata": {
    "collapsed": false
   },
   "outputs": [
    {
     "data": {
      "text/html": [
       "<div>\n",
       "<table border=\"1\" class=\"dataframe\">\n",
       "  <thead>\n",
       "    <tr style=\"text-align: right;\">\n",
       "      <th></th>\n",
       "      <th>filename</th>\n",
       "      <th>shot</th>\n",
       "      <th>has_text</th>\n",
       "      <th>text</th>\n",
       "    </tr>\n",
       "  </thead>\n",
       "  <tbody>\n",
       "    <tr>\n",
       "      <th>0</th>\n",
       "      <td>Aabbey1-InvitationToSummer2009RabbinicalStudyS...</td>\n",
       "      <td>012.jpg</td>\n",
       "      <td>True</td>\n",
       "      <td>SHALOM HARTMAN INSTITUTE RABBINIC TORAH STUDY ...</td>\n",
       "    </tr>\n",
       "    <tr>\n",
       "      <th>1</th>\n",
       "      <td>Aabbey1-RachelSabathBeitHalachmiThreeModelsOfT...</td>\n",
       "      <td>4797.jpg</td>\n",
       "      <td>False</td>\n",
       "      <td>NaN</td>\n",
       "    </tr>\n",
       "    <tr>\n",
       "      <th>2</th>\n",
       "      <td>Aabbey1-RachelSabathBeitHalachmiThreeModelsOfT...</td>\n",
       "      <td>9763.jpg</td>\n",
       "      <td>True</td>\n",
       "      <td>Shaom Hartman Institute</td>\n",
       "    </tr>\n",
       "    <tr>\n",
       "      <th>3</th>\n",
       "      <td>Aabbey1-ShalomHartmanInstitutesInnovativeTheol...</td>\n",
       "      <td>0083.jpg</td>\n",
       "      <td>True</td>\n",
       "      <td>Prof Menachem Fisch Shalom Hartman Institute T...</td>\n",
       "    </tr>\n",
       "    <tr>\n",
       "      <th>4</th>\n",
       "      <td>Aabbey1-ShalomHartmanInstitutesInnovativeTheol...</td>\n",
       "      <td>3061.jpg</td>\n",
       "      <td>False</td>\n",
       "      <td>NaN</td>\n",
       "    </tr>\n",
       "  </tbody>\n",
       "</table>\n",
       "</div>"
      ],
      "text/plain": [
       "                                            filename      shot has_text  \\\n",
       "0  Aabbey1-InvitationToSummer2009RabbinicalStudyS...   012.jpg     True   \n",
       "1  Aabbey1-RachelSabathBeitHalachmiThreeModelsOfT...  4797.jpg    False   \n",
       "2  Aabbey1-RachelSabathBeitHalachmiThreeModelsOfT...  9763.jpg     True   \n",
       "3  Aabbey1-ShalomHartmanInstitutesInnovativeTheol...  0083.jpg     True   \n",
       "4  Aabbey1-ShalomHartmanInstitutesInnovativeTheol...  3061.jpg    False   \n",
       "\n",
       "                                                text  \n",
       "0  SHALOM HARTMAN INSTITUTE RABBINIC TORAH STUDY ...  \n",
       "1                                                NaN  \n",
       "2                            Shaom Hartman Institute  \n",
       "3  Prof Menachem Fisch Shalom Hartman Institute T...  \n",
       "4                                                NaN  "
      ]
     },
     "execution_count": 18,
     "metadata": {},
     "output_type": "execute_result"
    }
   ],
   "source": [
    "df_shots_text = pd.read_csv('../features/shots/shot_text_df.csv')\n",
    "df_shots_text.head()"
   ]
  },
  {
   "cell_type": "code",
   "execution_count": 19,
   "metadata": {
    "collapsed": false
   },
   "outputs": [
    {
     "data": {
      "text/html": [
       "<div>\n",
       "<table border=\"1\" class=\"dataframe\">\n",
       "  <thead>\n",
       "    <tr style=\"text-align: right;\">\n",
       "      <th></th>\n",
       "      <th>filename</th>\n",
       "      <th>has_text</th>\n",
       "    </tr>\n",
       "  </thead>\n",
       "  <tbody>\n",
       "    <tr>\n",
       "      <th>0</th>\n",
       "      <td>Aabbey1-InvitationToSummer2009RabbinicalStudyS...</td>\n",
       "      <td>True</td>\n",
       "    </tr>\n",
       "    <tr>\n",
       "      <th>1</th>\n",
       "      <td>Aabbey1-RachelSabathBeitHalachmiThreeModelsOfT...</td>\n",
       "      <td>True</td>\n",
       "    </tr>\n",
       "    <tr>\n",
       "      <th>2</th>\n",
       "      <td>Aabbey1-ShalomHartmanInstitutesInnovativeTheol...</td>\n",
       "      <td>True</td>\n",
       "    </tr>\n",
       "    <tr>\n",
       "      <th>3</th>\n",
       "      <td>Acnethai-414</td>\n",
       "      <td>False</td>\n",
       "    </tr>\n",
       "    <tr>\n",
       "      <th>4</th>\n",
       "      <td>Acnethai-EP4HowToMakeUpForAcneFromBobbiBrown565</td>\n",
       "      <td>True</td>\n",
       "    </tr>\n",
       "  </tbody>\n",
       "</table>\n",
       "</div>"
      ],
      "text/plain": [
       "                                            filename has_text\n",
       "0  Aabbey1-InvitationToSummer2009RabbinicalStudyS...     True\n",
       "1  Aabbey1-RachelSabathBeitHalachmiThreeModelsOfT...     True\n",
       "2  Aabbey1-ShalomHartmanInstitutesInnovativeTheol...     True\n",
       "3                                       Acnethai-414    False\n",
       "4    Acnethai-EP4HowToMakeUpForAcneFromBobbiBrown565     True"
      ]
     },
     "execution_count": 19,
     "metadata": {},
     "output_type": "execute_result"
    }
   ],
   "source": [
    "df_text = df_shots_text.groupby(['filename']).apply(lambda x: x['has_text'].sum() > 0).to_frame()\n",
    "df_text.reset_index(level=0, inplace=True)\n",
    "df_text.columns = ['filename', 'has_text']\n",
    "df_text.head()"
   ]
  },
  {
   "cell_type": "code",
   "execution_count": 20,
   "metadata": {
    "collapsed": false
   },
   "outputs": [
    {
     "data": {
      "text/html": [
       "<div>\n",
       "<table border=\"1\" class=\"dataframe\">\n",
       "  <thead>\n",
       "    <tr style=\"text-align: right;\">\n",
       "      <th></th>\n",
       "      <th>filename</th>\n",
       "      <th>nb_shots</th>\n",
       "    </tr>\n",
       "  </thead>\n",
       "  <tbody>\n",
       "    <tr>\n",
       "      <th>0</th>\n",
       "      <td>Bavc-GossipChismeDeborah157</td>\n",
       "      <td>392</td>\n",
       "    </tr>\n",
       "    <tr>\n",
       "      <th>1</th>\n",
       "      <td>WybaK-MIRACLEKAABAAVOIR920</td>\n",
       "      <td>139</td>\n",
       "    </tr>\n",
       "    <tr>\n",
       "      <th>2</th>\n",
       "      <td>Drinkart-MakersMarkEggNogArtOfTheDrink51899</td>\n",
       "      <td>127</td>\n",
       "    </tr>\n",
       "    <tr>\n",
       "      <th>3</th>\n",
       "      <td>Drinkart-SingaporeSlingArtOfTheDrink50269</td>\n",
       "      <td>113</td>\n",
       "    </tr>\n",
       "    <tr>\n",
       "      <th>4</th>\n",
       "      <td>Mediagrouptv-CircuitoOff2008Day01OpeningParty179</td>\n",
       "      <td>80</td>\n",
       "    </tr>\n",
       "  </tbody>\n",
       "</table>\n",
       "</div>"
      ],
      "text/plain": [
       "                                           filename  nb_shots\n",
       "0                       Bavc-GossipChismeDeborah157       392\n",
       "1                        WybaK-MIRACLEKAABAAVOIR920       139\n",
       "2       Drinkart-MakersMarkEggNogArtOfTheDrink51899       127\n",
       "3         Drinkart-SingaporeSlingArtOfTheDrink50269       113\n",
       "4  Mediagrouptv-CircuitoOff2008Day01OpeningParty179        80"
      ]
     },
     "execution_count": 20,
     "metadata": {},
     "output_type": "execute_result"
    }
   ],
   "source": [
    "df_nb_shots = pd.read_csv('../features/shots/nb_shots_df.csv')\n",
    "df_nb_shots.columns = ['filename', 'nb_shots']\n",
    "df_nb_shots.head()"
   ]
  },
  {
   "cell_type": "markdown",
   "metadata": {},
   "source": [
    "## Merge dataframes"
   ]
  },
  {
   "cell_type": "code",
   "execution_count": 21,
   "metadata": {
    "collapsed": false
   },
   "outputs": [
    {
     "data": {
      "text/html": [
       "<div>\n",
       "<table border=\"1\" class=\"dataframe\">\n",
       "  <thead>\n",
       "    <tr style=\"text-align: right;\">\n",
       "      <th></th>\n",
       "      <th>has_text</th>\n",
       "      <th>nb_faces_max</th>\n",
       "      <th>nb_shots</th>\n",
       "    </tr>\n",
       "    <tr>\n",
       "      <th>filename</th>\n",
       "      <th></th>\n",
       "      <th></th>\n",
       "      <th></th>\n",
       "    </tr>\n",
       "  </thead>\n",
       "  <tbody>\n",
       "    <tr>\n",
       "      <th>Aabbey1-InvitationToSummer2009RabbinicalStudySeminarAtHartmanIn262</th>\n",
       "      <td>True</td>\n",
       "      <td>0</td>\n",
       "      <td>1</td>\n",
       "    </tr>\n",
       "    <tr>\n",
       "      <th>Aabbey1-RachelSabathBeitHalachmiThreeModelsOfTorahOnCelebrating136</th>\n",
       "      <td>True</td>\n",
       "      <td>1</td>\n",
       "      <td>2</td>\n",
       "    </tr>\n",
       "    <tr>\n",
       "      <th>Aabbey1-ShalomHartmanInstitutesInnovativeTheologyConference661</th>\n",
       "      <td>True</td>\n",
       "      <td>1</td>\n",
       "      <td>5</td>\n",
       "    </tr>\n",
       "    <tr>\n",
       "      <th>Acnethai-414</th>\n",
       "      <td>False</td>\n",
       "      <td>1</td>\n",
       "      <td>2</td>\n",
       "    </tr>\n",
       "    <tr>\n",
       "      <th>Acnethai-EP4HowToMakeUpForAcneFromBobbiBrown565</th>\n",
       "      <td>True</td>\n",
       "      <td>0</td>\n",
       "      <td>7</td>\n",
       "    </tr>\n",
       "  </tbody>\n",
       "</table>\n",
       "</div>"
      ],
      "text/plain": [
       "                                                   has_text  nb_faces_max  \\\n",
       "filename                                                                    \n",
       "Aabbey1-InvitationToSummer2009RabbinicalStudySe...     True             0   \n",
       "Aabbey1-RachelSabathBeitHalachmiThreeModelsOfTo...     True             1   \n",
       "Aabbey1-ShalomHartmanInstitutesInnovativeTheolo...     True             1   \n",
       "Acnethai-414                                          False             1   \n",
       "Acnethai-EP4HowToMakeUpForAcneFromBobbiBrown565        True             0   \n",
       "\n",
       "                                                    nb_shots  \n",
       "filename                                                      \n",
       "Aabbey1-InvitationToSummer2009RabbinicalStudySe...         1  \n",
       "Aabbey1-RachelSabathBeitHalachmiThreeModelsOfTo...         2  \n",
       "Aabbey1-ShalomHartmanInstitutesInnovativeTheolo...         5  \n",
       "Acnethai-414                                               2  \n",
       "Acnethai-EP4HowToMakeUpForAcneFromBobbiBrown565            7  "
      ]
     },
     "execution_count": 21,
     "metadata": {},
     "output_type": "execute_result"
    }
   ],
   "source": [
    "assert len(df_text) == len(df_faces) == len(df_nb_shots)\n",
    "df = df_text.merge(df_faces,on='filename').merge(df_nb_shots,on='filename')\n",
    "df.set_index('filename', inplace=True)\n",
    "df.head()"
   ]
  },
  {
   "cell_type": "markdown",
   "metadata": {},
   "source": [
    "## Classifying"
   ]
  },
  {
   "cell_type": "code",
   "execution_count": 29,
   "metadata": {
    "collapsed": false
   },
   "outputs": [],
   "source": [
    "from sklearn import model_selection\n",
    "from sklearn.ensemble import RandomForestClassifier\n",
    "\n",
    "\n",
    "\n",
    "clf = RandomForestClassifier()\n",
    "\n",
    "df['tag'] = pd.read_csv('../features/tags.csv', index_col=0)['tag_name']\n",
    "\n",
    "y = df['tag']\n",
    "\n",
    "X = df.drop('tag', axis=1)\n",
    "\n",
    "X_train, X_test, y_train, y_test = model_selection.train_test_split(X.values, y, test_size=0.2)\n",
    "clf.fit(X_train, y_train)\n",
    "y_pred = clf.predict(X_test)"
   ]
  },
  {
   "cell_type": "markdown",
   "metadata": {},
   "source": [
    "## Precision score\n"
   ]
  },
  {
   "cell_type": "code",
   "execution_count": 30,
   "metadata": {
    "collapsed": false
   },
   "outputs": [
    {
     "data": {
      "text/plain": [
       "0.29565217391304349"
      ]
     },
     "execution_count": 30,
     "metadata": {},
     "output_type": "execute_result"
    }
   ],
   "source": [
    "from sklearn import metrics\n",
    "\n",
    "metrics.precision_score(y_test, y_pred, average='micro')"
   ]
  },
  {
   "cell_type": "markdown",
   "metadata": {},
   "source": [
    "## Confusion matrix"
   ]
  },
  {
   "cell_type": "code",
   "execution_count": 27,
   "metadata": {
    "collapsed": false
   },
   "outputs": [
    {
     "data": {
      "text/plain": [
       "<matplotlib.text.Text at 0x112829e10>"
      ]
     },
     "execution_count": 27,
     "metadata": {},
     "output_type": "execute_result"
    },
    {
     "data": {
      "image/png": "[encoded data removed]",
      "text/plain": [
       "<matplotlib.figure.Figure at 0x111310cf8>"
      ]
     },
     "metadata": {},
     "output_type": "display_data"
    }
   ],
   "source": [
    "import seaborn as sns\n",
    "\n",
    "cm = metrics.confusion_matrix(y_test, y_pred)\n",
    "#cm = cm / cm.sum(axis=1).reshape(-1, 1) # Obtain the normalized color map \n",
    "ax = sns.heatmap(cm, annot=True, xticklabels=y.unique(), yticklabels=y.unique(), cmap='YlGn')\n",
    "ax.set_xlabel('Predicted labels', fontweight='bold')\n",
    "ax.set_ylabel('True labels', fontweight='bold')"
   ]
  }
 ],
 "metadata": {
  "kernelspec": {
   "display_name": "Python 3",
   "language": "python",
   "name": "python3"
  },
  "language_info": {
   "codemirror_mode": {
    "name": "ipython",
    "version": 3
   },
   "file_extension": ".py",
   "mimetype": "text/x-python",
   "name": "python",
   "nbconvert_exporter": "python",
   "pygments_lexer": "ipython3",
   "version": "3.5.2"
  }
 },
 "nbformat": 4,
 "nbformat_minor": 1
}
