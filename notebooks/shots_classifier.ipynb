{
 "cells": [
  {
   "cell_type": "code",
   "execution_count": 14,
   "metadata": {
    "collapsed": true
   },
   "outputs": [],
   "source": [
    "%matplotlib inline"
   ]
  },
  {
   "cell_type": "markdown",
   "metadata": {},
   "source": [
    "# Classifying on shots features using Random Forest"
   ]
  },
  {
   "cell_type": "code",
   "execution_count": 2,
   "metadata": {
    "collapsed": false
   },
   "outputs": [],
   "source": [
    "import numpy as np\n",
    "import pandas as pd"
   ]
  },
  {
   "cell_type": "markdown",
   "metadata": {},
   "source": [
    "## Load data"
   ]
  },
  {
   "cell_type": "code",
   "execution_count": 31,
   "metadata": {
    "collapsed": false
   },
   "outputs": [
    {
     "data": {
      "text/html": [
       "<div>\n",
       "<table border=\"1\" class=\"dataframe\">\n",
       "  <thead>\n",
       "    <tr style=\"text-align: right;\">\n",
       "      <th></th>\n",
       "      <th>filename</th>\n",
       "      <th>has_text</th>\n",
       "      <th>nb_faces_max</th>\n",
       "      <th>nb_shots</th>\n",
       "    </tr>\n",
       "  </thead>\n",
       "  <tbody>\n",
       "    <tr>\n",
       "      <th>0</th>\n",
       "      <td>Aabbey1-InvitationToSummer2009RabbinicalStudyS...</td>\n",
       "      <td>True</td>\n",
       "      <td>0</td>\n",
       "      <td>1</td>\n",
       "    </tr>\n",
       "    <tr>\n",
       "      <th>1</th>\n",
       "      <td>Aabbey1-RachelSabathBeitHalachmiThreeModelsOfT...</td>\n",
       "      <td>True</td>\n",
       "      <td>1</td>\n",
       "      <td>2</td>\n",
       "    </tr>\n",
       "    <tr>\n",
       "      <th>2</th>\n",
       "      <td>Aabbey1-ShalomHartmanInstitutesInnovativeTheol...</td>\n",
       "      <td>True</td>\n",
       "      <td>1</td>\n",
       "      <td>5</td>\n",
       "    </tr>\n",
       "    <tr>\n",
       "      <th>3</th>\n",
       "      <td>Acnethai-414</td>\n",
       "      <td>False</td>\n",
       "      <td>1</td>\n",
       "      <td>2</td>\n",
       "    </tr>\n",
       "    <tr>\n",
       "      <th>4</th>\n",
       "      <td>Acnethai-EP4HowToMakeUpForAcneFromBobbiBrown565</td>\n",
       "      <td>True</td>\n",
       "      <td>0</td>\n",
       "      <td>7</td>\n",
       "    </tr>\n",
       "  </tbody>\n",
       "</table>\n",
       "</div>"
      ],
      "text/plain": [
       "                                            filename has_text  nb_faces_max  \\\n",
       "0  Aabbey1-InvitationToSummer2009RabbinicalStudyS...     True             0   \n",
       "1  Aabbey1-RachelSabathBeitHalachmiThreeModelsOfT...     True             1   \n",
       "2  Aabbey1-ShalomHartmanInstitutesInnovativeTheol...     True             1   \n",
       "3                                       Acnethai-414    False             1   \n",
       "4    Acnethai-EP4HowToMakeUpForAcneFromBobbiBrown565     True             0   \n",
       "\n",
       "   nb_shots  \n",
       "0         1  \n",
       "1         2  \n",
       "2         5  \n",
       "3         2  \n",
       "4         7  "
      ]
     },
     "execution_count": 31,
     "metadata": {},
     "output_type": "execute_result"
    }
   ],
   "source": [
    "df_shots = pd.read_csv('../features/shots/shots_metadata.csv')\n",
    "#df.set_index('filename', inplace=True)\n",
    "df_shots.head()"
   ]
  },
  {
   "cell_type": "markdown",
   "metadata": {},
   "source": [
    "## Append other global features"
   ]
  },
  {
   "cell_type": "code",
   "execution_count": 64,
   "metadata": {
    "collapsed": false
   },
   "outputs": [
    {
     "data": {
      "text/html": [
       "<div>\n",
       "<table border=\"1\" class=\"dataframe\">\n",
       "  <thead>\n",
       "    <tr style=\"text-align: right;\">\n",
       "      <th></th>\n",
       "      <th>has_text</th>\n",
       "      <th>nb_faces_max</th>\n",
       "      <th>nb_shots</th>\n",
       "      <th>duration</th>\n",
       "      <th>size</th>\n",
       "      <th>uploader_id</th>\n",
       "    </tr>\n",
       "    <tr>\n",
       "      <th>filename</th>\n",
       "      <th></th>\n",
       "      <th></th>\n",
       "      <th></th>\n",
       "      <th></th>\n",
       "      <th></th>\n",
       "      <th></th>\n",
       "    </tr>\n",
       "  </thead>\n",
       "  <tbody>\n",
       "    <tr>\n",
       "      <th>Aabbey1-InvitationToSummer2009RabbinicalStudySeminarAtHartmanIn262</th>\n",
       "      <td>True</td>\n",
       "      <td>0</td>\n",
       "      <td>1</td>\n",
       "      <td>100</td>\n",
       "      <td>6330756</td>\n",
       "      <td>196106</td>\n",
       "    </tr>\n",
       "    <tr>\n",
       "      <th>Aabbey1-RachelSabathBeitHalachmiThreeModelsOfTorahOnCelebrating136</th>\n",
       "      <td>True</td>\n",
       "      <td>1</td>\n",
       "      <td>2</td>\n",
       "      <td>402</td>\n",
       "      <td>30294842</td>\n",
       "      <td>196106</td>\n",
       "    </tr>\n",
       "    <tr>\n",
       "      <th>Aabbey1-ShalomHartmanInstitutesInnovativeTheologyConference661</th>\n",
       "      <td>True</td>\n",
       "      <td>1</td>\n",
       "      <td>5</td>\n",
       "      <td>212</td>\n",
       "      <td>13742982</td>\n",
       "      <td>196106</td>\n",
       "    </tr>\n",
       "    <tr>\n",
       "      <th>Acnethai-414</th>\n",
       "      <td>False</td>\n",
       "      <td>1</td>\n",
       "      <td>2</td>\n",
       "      <td>584</td>\n",
       "      <td>32123974</td>\n",
       "      <td>343571</td>\n",
       "    </tr>\n",
       "    <tr>\n",
       "      <th>Acnethai-EP4HowToMakeUpForAcneFromBobbiBrown565</th>\n",
       "      <td>True</td>\n",
       "      <td>0</td>\n",
       "      <td>7</td>\n",
       "      <td>429</td>\n",
       "      <td>38037812</td>\n",
       "      <td>343571</td>\n",
       "    </tr>\n",
       "  </tbody>\n",
       "</table>\n",
       "</div>"
      ],
      "text/plain": [
       "                                                   has_text  nb_faces_max  \\\n",
       "filename                                                                    \n",
       "Aabbey1-InvitationToSummer2009RabbinicalStudySe...     True             0   \n",
       "Aabbey1-RachelSabathBeitHalachmiThreeModelsOfTo...     True             1   \n",
       "Aabbey1-ShalomHartmanInstitutesInnovativeTheolo...     True             1   \n",
       "Acnethai-414                                          False             1   \n",
       "Acnethai-EP4HowToMakeUpForAcneFromBobbiBrown565        True             0   \n",
       "\n",
       "                                                    nb_shots  duration  \\\n",
       "filename                                                                 \n",
       "Aabbey1-InvitationToSummer2009RabbinicalStudySe...         1       100   \n",
       "Aabbey1-RachelSabathBeitHalachmiThreeModelsOfTo...         2       402   \n",
       "Aabbey1-ShalomHartmanInstitutesInnovativeTheolo...         5       212   \n",
       "Acnethai-414                                               2       584   \n",
       "Acnethai-EP4HowToMakeUpForAcneFromBobbiBrown565            7       429   \n",
       "\n",
       "                                                        size  uploader_id  \n",
       "filename                                                                   \n",
       "Aabbey1-InvitationToSummer2009RabbinicalStudySe...   6330756       196106  \n",
       "Aabbey1-RachelSabathBeitHalachmiThreeModelsOfTo...  30294842       196106  \n",
       "Aabbey1-ShalomHartmanInstitutesInnovativeTheolo...  13742982       196106  \n",
       "Acnethai-414                                        32123974       343571  \n",
       "Acnethai-EP4HowToMakeUpForAcneFromBobbiBrown565     38037812       343571  "
      ]
     },
     "execution_count": 64,
     "metadata": {},
     "output_type": "execute_result"
    }
   ],
   "source": [
    "df_metadata = pd.read_csv('../features/metadata/features.csv')\n",
    "df = df_shots.merge(df_metadata, on='filename')\n",
    "df.set_index('filename', inplace=True)\n",
    "features = ['has_text', 'nb_faces_max', 'nb_shots', 'duration', 'size', 'uploader_id']\n",
    "df = df[features]\n",
    "df.head()"
   ]
  },
  {
   "cell_type": "markdown",
   "metadata": {},
   "source": [
    "## Classifying"
   ]
  },
  {
   "cell_type": "markdown",
   "metadata": {},
   "source": [
    "The `RandomForestClassifier` must be a good choice to classify videos into tags. In fact, here we have some interesting features like the number of shots per video, the max number of faces founded into keyframes, and a boolean measure related to existence of text."
   ]
  },
  {
   "cell_type": "code",
   "execution_count": 65,
   "metadata": {
    "collapsed": false
   },
   "outputs": [],
   "source": [
    "from sklearn import model_selection\n",
    "from sklearn.ensemble import RandomForestClassifier\n",
    "\n",
    "clf = RandomForestClassifier()\n",
    "\n",
    "# Add real tags to dataframe\n",
    "df['tag'] = pd.read_csv('../features/tags.csv', index_col=0)['tag_name']\n",
    "\n",
    "y = df['tag']\n",
    "X = df.drop('tag', axis=1)\n",
    "\n",
    "# Split train and test datasets\n",
    "X_train, X_test, y_train, y_test = model_selection.train_test_split(X.values, y, test_size=0.2)\n",
    "\n",
    "# Fit classifier\n",
    "clf.fit(X_train, y_train)\n",
    "# Predict for X_test\n",
    "y_pred = clf.predict(X_test)"
   ]
  },
  {
   "cell_type": "markdown",
   "metadata": {},
   "source": [
    "## Precision score\n"
   ]
  },
  {
   "cell_type": "code",
   "execution_count": 66,
   "metadata": {
    "collapsed": false
   },
   "outputs": [
    {
     "name": "stdout",
     "output_type": "stream",
     "text": [
      "Précision : 0.6869565217391305\n",
      "Rappel : 0.6869565217391305\n"
     ]
    }
   ],
   "source": [
    "from sklearn import metrics\n",
    "\n",
    "precision = metrics.precision_score(y_test, y_pred, average='micro')\n",
    "recall = metrics.recall_score(y_test, y_pred, average='micro')\n",
    "print('Précision : {}\\nRappel : {}'.format(precision, recall))"
   ]
  },
  {
   "cell_type": "markdown",
   "metadata": {},
   "source": [
    "## Confusion matrix"
   ]
  },
  {
   "cell_type": "code",
   "execution_count": 67,
   "metadata": {
    "collapsed": false
   },
   "outputs": [
    {
     "data": {
      "text/plain": [
       "<matplotlib.text.Text at 0x115747b00>"
      ]
     },
     "execution_count": 67,
     "metadata": {},
     "output_type": "execute_result"
    },
    {
     "data": {
      "image/png": "[encoded data removed]",
      "text/plain": [
       "<matplotlib.figure.Figure at 0x115535080>"
      ]
     },
     "metadata": {},
     "output_type": "display_data"
    }
   ],
   "source": [
    "import seaborn as sns\n",
    "\n",
    "cm = metrics.confusion_matrix(y_test, y_pred)\n",
    "ax = sns.heatmap(cm, annot=True, xticklabels=y.unique(), yticklabels=y.unique(), cmap='YlGn')\n",
    "ax.set_xlabel('Predicted labels', fontweight='bold')\n",
    "ax.set_ylabel('True labels', fontweight='bold')"
   ]
  }
 ],
 "metadata": {
  "kernelspec": {
   "display_name": "Python 3",
   "language": "python",
   "name": "python3"
  },
  "language_info": {
   "codemirror_mode": {
    "name": "ipython",
    "version": 3
   },
   "file_extension": ".py",
   "mimetype": "text/x-python",
   "name": "python",
   "nbconvert_exporter": "python",
   "pygments_lexer": "ipython3",
   "version": "3.5.2"
  }
 },
 "nbformat": 4,
 "nbformat_minor": 1
}
