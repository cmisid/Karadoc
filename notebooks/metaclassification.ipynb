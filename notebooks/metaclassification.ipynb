{
 "cells": [
  {
   "cell_type": "markdown",
   "metadata": {},
   "source": [
    "# Metaclassification"
   ]
  },
  {
   "cell_type": "code",
   "execution_count": 1,
   "metadata": {
    "collapsed": true
   },
   "outputs": [],
   "source": [
    "import pandas as pd\n",
    "\n",
    "tags = pd.read_csv('../features/tags.csv', index_col=0)['tag_name']"
   ]
  },
  {
   "cell_type": "markdown",
   "metadata": {},
   "source": [
    "## Datasets"
   ]
  },
  {
   "cell_type": "markdown",
   "metadata": {},
   "source": [
    "### 1. Metadata TF"
   ]
  },
  {
   "cell_type": "code",
   "execution_count": 4,
   "metadata": {
    "collapsed": false
   },
   "outputs": [],
   "source": [
    "tf_metadata = pd.concat((\n",
    "        pd.read_csv('../features/metadata/tf_descriptions.csv', index_col=0),\n",
    "        pd.read_csv('../features/metadata/tf_keywords.csv', index_col=0)\n",
    "    ), axis=1\n",
    ")\n",
    "tf_metadata = tf_metadata.groupby(tf_metadata.columns, axis=1).sum() # Drop duplicate columns"
   ]
  },
  {
   "cell_type": "markdown",
   "metadata": {},
   "source": [
    "### 2. Metadata TF-IDF"
   ]
  },
  {
   "cell_type": "code",
   "execution_count": 6,
   "metadata": {
    "collapsed": false
   },
   "outputs": [],
   "source": [
    "from sklearn.feature_extraction.text import TfidfTransformer\n",
    "\n",
    "tfidf_metadata = pd.DataFrame(\n",
    "    data=TfidfTransformer().fit_transform(tf_metadata).todense(),\n",
    "    index=tf_metadata.index,\n",
    "    columns=tf_metadata.columns\n",
    ")"
   ]
  },
  {
   "cell_type": "markdown",
   "metadata": {},
   "source": [
    "### 3. Transcription TF"
   ]
  },
  {
   "cell_type": "code",
   "execution_count": 19,
   "metadata": {
    "collapsed": true
   },
   "outputs": [],
   "source": [
    "tf_trans = pd.read_csv('../features/trans/tf_trans.csv', index_col=0)"
   ]
  },
  {
   "cell_type": "markdown",
   "metadata": {},
   "source": [
    "### 4. Transcriptions TF-IDF"
   ]
  },
  {
   "cell_type": "code",
   "execution_count": 20,
   "metadata": {
    "collapsed": true
   },
   "outputs": [],
   "source": [
    "tfidf_trans = pd.DataFrame(\n",
    "    data=TfidfTransformer().fit_transform(tf_trans).todense(),\n",
    "    index=tf_trans.index,\n",
    "    columns=tf_trans.columns\n",
    ")"
   ]
  },
  {
   "cell_type": "markdown",
   "metadata": {},
   "source": [
    "## Classifiers"
   ]
  },
  {
   "cell_type": "code",
   "execution_count": 23,
   "metadata": {
    "collapsed": true
   },
   "outputs": [],
   "source": [
    "from collections import namedtuple\n",
    "\n",
    "Classifier = namedtuple(\n",
    "    'classifier',\n",
    "    ['name', 'dataframe', 'model']\n",
    ")\n",
    "\n",
    "classifiers = []"
   ]
  },
  {
   "cell_type": "markdown",
   "metadata": {},
   "source": [
    "### 1. Naïve Bayes on metadata TF"
   ]
  },
  {
   "cell_type": "code",
   "execution_count": 24,
   "metadata": {
    "collapsed": false
   },
   "outputs": [],
   "source": [
    "from sklearn import ensemble\n",
    "from sklearn import naive_bayes\n",
    "\n",
    "classifiers.append(\n",
    "    Classifier(\n",
    "        name='Naïve Bayes on metadata TF',\n",
    "        dataframe=tf_metadata,\n",
    "        model=ensemble.BaggingClassifier(\n",
    "            naive_bayes.MultinomialNB(alpha=0.3),\n",
    "            n_estimators=20,\n",
    "            max_samples=0.8,\n",
    "            max_features=0.5\n",
    "        )\n",
    "    )\n",
    ")"
   ]
  },
  {
   "cell_type": "markdown",
   "metadata": {},
   "source": [
    "### 2. Top terms on metadata TF"
   ]
  },
  {
   "cell_type": "code",
   "execution_count": 25,
   "metadata": {
    "collapsed": true
   },
   "outputs": [],
   "source": [
    "import top_terms\n",
    "\n",
    "classifiers.append(\n",
    "    Classifier(\n",
    "        name='Top terms on metadata TF',\n",
    "        dataframe=tf_metadata,\n",
    "        model=top_terms.TopTermsClassifier(n_terms=20)\n",
    "    )\n",
    ")"
   ]
  },
  {
   "cell_type": "markdown",
   "metadata": {},
   "source": [
    "### 3. Linear SVM on metadata TF-IDF"
   ]
  },
  {
   "cell_type": "code",
   "execution_count": 26,
   "metadata": {
    "collapsed": true
   },
   "outputs": [],
   "source": [
    "from sklearn import svm\n",
    "\n",
    "classifiers.append(\n",
    "    Classifier(\n",
    "        name='Linear SVM on metadata TF-IDF',\n",
    "        dataframe=tfidf_metadata,\n",
    "        model=svm.LinearSVC(C=6.0, multi_class='crammer_singer')\n",
    "    )\n",
    ")"
   ]
  },
  {
   "cell_type": "markdown",
   "metadata": {},
   "source": [
    "### 4. Naïve Bayes on transcription TF"
   ]
  },
  {
   "cell_type": "code",
   "execution_count": 27,
   "metadata": {
    "collapsed": true
   },
   "outputs": [],
   "source": [
    "classifiers.append(\n",
    "    Classifier(\n",
    "        name='Naïve Bayes on transcription TF',\n",
    "        dataframe=tf_trans,\n",
    "        model=ensemble.BaggingClassifier(\n",
    "            naive_bayes.MultinomialNB(alpha=0.2),\n",
    "            n_estimators=10,\n",
    "            max_samples=0.8,\n",
    "            max_features=0.8\n",
    "        )\n",
    "    )\n",
    ")"
   ]
  },
  {
   "cell_type": "markdown",
   "metadata": {},
   "source": [
    "### 5. Top terms on transcription TF"
   ]
  },
  {
   "cell_type": "code",
   "execution_count": 28,
   "metadata": {
    "collapsed": true
   },
   "outputs": [],
   "source": [
    "classifiers.append(\n",
    "    Classifier(\n",
    "        name='Top terms on transcription TF',\n",
    "        dataframe=tf_trans,\n",
    "        model=top_terms.TopTermsClassifier(n_terms=20)\n",
    "    )\n",
    ")"
   ]
  },
  {
   "cell_type": "markdown",
   "metadata": {},
   "source": [
    "### 6. Linear SVM on transcription TF-IDF"
   ]
  },
  {
   "cell_type": "code",
   "execution_count": 29,
   "metadata": {
    "collapsed": true
   },
   "outputs": [],
   "source": [
    "classifiers.append(\n",
    "    Classifier(\n",
    "        name='Linear SVM on trans TF-IDF',\n",
    "        dataframe=tfidf_trans,\n",
    "        model=svm.LinearSVC(C=6.0, multi_class='crammer_singer')\n",
    "    )\n",
    ")"
   ]
  },
  {
   "cell_type": "markdown",
   "metadata": {},
   "source": [
    "## Run the classifiers individually"
   ]
  },
  {
   "cell_type": "code",
   "execution_count": 31,
   "metadata": {
    "collapsed": false
   },
   "outputs": [
    {
     "name": "stderr",
     "output_type": "stream",
     "text": [
      "/Users/maxhalford/anaconda/lib/python3.5/site-packages/sklearn/naive_bayes.py:455: RuntimeWarning: divide by zero encountered in log\n",
      "  self.class_log_prior_ = (np.log(self.class_count_) -\n",
      "/Users/maxhalford/anaconda/lib/python3.5/site-packages/sklearn/naive_bayes.py:455: RuntimeWarning: divide by zero encountered in log\n",
      "  self.class_log_prior_ = (np.log(self.class_count_) -\n",
      "/Users/maxhalford/anaconda/lib/python3.5/site-packages/sklearn/naive_bayes.py:455: RuntimeWarning: divide by zero encountered in log\n",
      "  self.class_log_prior_ = (np.log(self.class_count_) -\n",
      "/Users/maxhalford/anaconda/lib/python3.5/site-packages/sklearn/naive_bayes.py:455: RuntimeWarning: divide by zero encountered in log\n",
      "  self.class_log_prior_ = (np.log(self.class_count_) -\n",
      "/Users/maxhalford/anaconda/lib/python3.5/site-packages/sklearn/naive_bayes.py:455: RuntimeWarning: divide by zero encountered in log\n",
      "  self.class_log_prior_ = (np.log(self.class_count_) -\n",
      "/Users/maxhalford/anaconda/lib/python3.5/site-packages/sklearn/naive_bayes.py:455: RuntimeWarning: divide by zero encountered in log\n",
      "  self.class_log_prior_ = (np.log(self.class_count_) -\n",
      "/Users/maxhalford/anaconda/lib/python3.5/site-packages/sklearn/naive_bayes.py:455: RuntimeWarning: divide by zero encountered in log\n",
      "  self.class_log_prior_ = (np.log(self.class_count_) -\n",
      "/Users/maxhalford/anaconda/lib/python3.5/site-packages/sklearn/naive_bayes.py:455: RuntimeWarning: divide by zero encountered in log\n",
      "  self.class_log_prior_ = (np.log(self.class_count_) -\n",
      "/Users/maxhalford/anaconda/lib/python3.5/site-packages/sklearn/naive_bayes.py:455: RuntimeWarning: divide by zero encountered in log\n",
      "  self.class_log_prior_ = (np.log(self.class_count_) -\n",
      "/Users/maxhalford/anaconda/lib/python3.5/site-packages/sklearn/naive_bayes.py:455: RuntimeWarning: divide by zero encountered in log\n",
      "  self.class_log_prior_ = (np.log(self.class_count_) -\n",
      "/Users/maxhalford/anaconda/lib/python3.5/site-packages/sklearn/naive_bayes.py:455: RuntimeWarning: divide by zero encountered in log\n",
      "  self.class_log_prior_ = (np.log(self.class_count_) -\n",
      "/Users/maxhalford/anaconda/lib/python3.5/site-packages/sklearn/naive_bayes.py:455: RuntimeWarning: divide by zero encountered in log\n",
      "  self.class_log_prior_ = (np.log(self.class_count_) -\n",
      "/Users/maxhalford/anaconda/lib/python3.5/site-packages/sklearn/naive_bayes.py:455: RuntimeWarning: divide by zero encountered in log\n",
      "  self.class_log_prior_ = (np.log(self.class_count_) -\n",
      "/Users/maxhalford/anaconda/lib/python3.5/site-packages/sklearn/naive_bayes.py:455: RuntimeWarning: divide by zero encountered in log\n",
      "  self.class_log_prior_ = (np.log(self.class_count_) -\n",
      "/Users/maxhalford/anaconda/lib/python3.5/site-packages/sklearn/naive_bayes.py:455: RuntimeWarning: divide by zero encountered in log\n",
      "  self.class_log_prior_ = (np.log(self.class_count_) -\n",
      "/Users/maxhalford/anaconda/lib/python3.5/site-packages/sklearn/naive_bayes.py:455: RuntimeWarning: divide by zero encountered in log\n",
      "  self.class_log_prior_ = (np.log(self.class_count_) -\n",
      "/Users/maxhalford/anaconda/lib/python3.5/site-packages/sklearn/naive_bayes.py:455: RuntimeWarning: divide by zero encountered in log\n",
      "  self.class_log_prior_ = (np.log(self.class_count_) -\n",
      "/Users/maxhalford/anaconda/lib/python3.5/site-packages/sklearn/naive_bayes.py:455: RuntimeWarning: divide by zero encountered in log\n",
      "  self.class_log_prior_ = (np.log(self.class_count_) -\n",
      "/Users/maxhalford/anaconda/lib/python3.5/site-packages/sklearn/naive_bayes.py:455: RuntimeWarning: divide by zero encountered in log\n",
      "  self.class_log_prior_ = (np.log(self.class_count_) -\n",
      "/Users/maxhalford/anaconda/lib/python3.5/site-packages/sklearn/naive_bayes.py:455: RuntimeWarning: divide by zero encountered in log\n",
      "  self.class_log_prior_ = (np.log(self.class_count_) -\n",
      "/Users/maxhalford/anaconda/lib/python3.5/site-packages/sklearn/naive_bayes.py:455: RuntimeWarning: divide by zero encountered in log\n",
      "  self.class_log_prior_ = (np.log(self.class_count_) -\n",
      "/Users/maxhalford/anaconda/lib/python3.5/site-packages/sklearn/naive_bayes.py:455: RuntimeWarning: divide by zero encountered in log\n",
      "  self.class_log_prior_ = (np.log(self.class_count_) -\n"
     ]
    },
    {
     "name": "stdout",
     "output_type": "stream",
     "text": [
      "Classifier: Naïve Bayes on metadata TF\n",
      "Precision 95 % CI: 0.839 (+/- 0.720)\n",
      "Total time to evaluate:, 470 seconds (0.82 per loop)\n",
      "------------------------------------------\n",
      "Classifier: Top terms on metadata TF\n",
      "Precision 95 % CI: 0.681 (+/- 0.914)\n",
      "Total time to evaluate:, 33 seconds (0.06 per loop)\n",
      "------------------------------------------\n",
      "Classifier: Linear SVM on metadata TF-IDF\n",
      "Precision 95 % CI: 0.881 (+/- 0.634)\n",
      "Total time to evaluate:, 175 seconds (0.31 per loop)\n",
      "------------------------------------------\n"
     ]
    },
    {
     "name": "stderr",
     "output_type": "stream",
     "text": [
      "/Users/maxhalford/anaconda/lib/python3.5/site-packages/sklearn/naive_bayes.py:455: RuntimeWarning: divide by zero encountered in log\n",
      "  self.class_log_prior_ = (np.log(self.class_count_) -\n",
      "/Users/maxhalford/anaconda/lib/python3.5/site-packages/sklearn/naive_bayes.py:455: RuntimeWarning: divide by zero encountered in log\n",
      "  self.class_log_prior_ = (np.log(self.class_count_) -\n",
      "/Users/maxhalford/anaconda/lib/python3.5/site-packages/sklearn/naive_bayes.py:455: RuntimeWarning: divide by zero encountered in log\n",
      "  self.class_log_prior_ = (np.log(self.class_count_) -\n",
      "/Users/maxhalford/anaconda/lib/python3.5/site-packages/sklearn/naive_bayes.py:455: RuntimeWarning: divide by zero encountered in log\n",
      "  self.class_log_prior_ = (np.log(self.class_count_) -\n",
      "/Users/maxhalford/anaconda/lib/python3.5/site-packages/sklearn/naive_bayes.py:455: RuntimeWarning: divide by zero encountered in log\n",
      "  self.class_log_prior_ = (np.log(self.class_count_) -\n",
      "/Users/maxhalford/anaconda/lib/python3.5/site-packages/sklearn/naive_bayes.py:455: RuntimeWarning: divide by zero encountered in log\n",
      "  self.class_log_prior_ = (np.log(self.class_count_) -\n",
      "/Users/maxhalford/anaconda/lib/python3.5/site-packages/sklearn/naive_bayes.py:455: RuntimeWarning: divide by zero encountered in log\n",
      "  self.class_log_prior_ = (np.log(self.class_count_) -\n",
      "/Users/maxhalford/anaconda/lib/python3.5/site-packages/sklearn/naive_bayes.py:455: RuntimeWarning: divide by zero encountered in log\n",
      "  self.class_log_prior_ = (np.log(self.class_count_) -\n",
      "/Users/maxhalford/anaconda/lib/python3.5/site-packages/sklearn/naive_bayes.py:455: RuntimeWarning: divide by zero encountered in log\n",
      "  self.class_log_prior_ = (np.log(self.class_count_) -\n",
      "/Users/maxhalford/anaconda/lib/python3.5/site-packages/sklearn/naive_bayes.py:455: RuntimeWarning: divide by zero encountered in log\n",
      "  self.class_log_prior_ = (np.log(self.class_count_) -\n",
      "/Users/maxhalford/anaconda/lib/python3.5/site-packages/sklearn/naive_bayes.py:455: RuntimeWarning: divide by zero encountered in log\n",
      "  self.class_log_prior_ = (np.log(self.class_count_) -\n",
      "/Users/maxhalford/anaconda/lib/python3.5/site-packages/sklearn/naive_bayes.py:455: RuntimeWarning: divide by zero encountered in log\n",
      "  self.class_log_prior_ = (np.log(self.class_count_) -\n",
      "/Users/maxhalford/anaconda/lib/python3.5/site-packages/sklearn/naive_bayes.py:455: RuntimeWarning: divide by zero encountered in log\n",
      "  self.class_log_prior_ = (np.log(self.class_count_) -\n",
      "/Users/maxhalford/anaconda/lib/python3.5/site-packages/sklearn/naive_bayes.py:455: RuntimeWarning: divide by zero encountered in log\n",
      "  self.class_log_prior_ = (np.log(self.class_count_) -\n",
      "/Users/maxhalford/anaconda/lib/python3.5/site-packages/sklearn/naive_bayes.py:455: RuntimeWarning: divide by zero encountered in log\n",
      "  self.class_log_prior_ = (np.log(self.class_count_) -\n",
      "/Users/maxhalford/anaconda/lib/python3.5/site-packages/sklearn/naive_bayes.py:455: RuntimeWarning: divide by zero encountered in log\n",
      "  self.class_log_prior_ = (np.log(self.class_count_) -\n"
     ]
    },
    {
     "name": "stdout",
     "output_type": "stream",
     "text": [
      "Classifier: Naïve Bayes on transcription TF\n",
      "Precision 95 % CI: 0.553 (+/- 0.974)\n",
      "Total time to evaluate:, 459 seconds (0.80 per loop)\n",
      "------------------------------------------\n",
      "Classifier: Top terms on transcription TF\n",
      "Precision 95 % CI: 0.384 (+/- 0.953)\n",
      "Total time to evaluate:, 50 seconds (0.09 per loop)\n",
      "------------------------------------------\n",
      "Classifier: Linear SVM on trans TF-IDF\n",
      "Precision 95 % CI: 0.665 (+/- 0.925)\n",
      "Total time to evaluate:, 63 seconds (0.11 per loop)\n",
      "------------------------------------------\n"
     ]
    }
   ],
   "source": [
    "import time\n",
    "import warnings\n",
    "\n",
    "import numpy as np\n",
    "from sklearn import model_selection\n",
    "\n",
    "warnings.filterwarnings('ignore') # Naïve Bayes might divide by 0 but it's okay\n",
    "\n",
    "splitter = model_selection.LeaveOneOut()\n",
    "\n",
    "predictions = pd.DataFrame(\n",
    "    index=tags.index,\n",
    "    columns=(clf.name for clf in classifiers)\n",
    ")\n",
    "\n",
    "for clf in classifiers:\n",
    "    X = clf.dataframe.values # n-d array\n",
    "    y = tags.reindex(clf.dataframe.index).values # 1-d array\n",
    "    y_pred = []\n",
    "    y_true = []\n",
    "    times = []\n",
    "    for train, test in splitter.split(X):\n",
    "        t0 = time.time()\n",
    "        # Split into train/test (the test only has one observation in leave-one-out)\n",
    "        X_train, X_test = X[train], X[test]\n",
    "        y_train, y_test = y[train], y[test]\n",
    "        # Fit on the training set and predicted the remaining test row\n",
    "        clf.model.fit(X_train, y_train)\n",
    "        y_pred.append(clf.model.predict(X_test)[0])\n",
    "        y_true.append(y_test[0])\n",
    "        times.append(time.time() - t0)\n",
    "    # Store the predictions for performing meta-classification further on\n",
    "    predictions[clf.name] = pd.Series(data=y_pred, index=clf.dataframe.index)\n",
    "    # Calculate the precision of the classifier\n",
    "    matches = np.array(y_true) == np.array(y_pred)\n",
    "    total_time = sum(times)\n",
    "    print('Classifier:', clf.name)\n",
    "    print('Precision 95 %% CI: %0.3f (+/- %0.3f)' % (matches.mean(), matches.std() * 1.96))\n",
    "    print('Total time to evaluate:, %d seconds (%0.2f per loop)' % (total_time, total_time / len(times)))\n",
    "    print('-' * 42)"
   ]
  },
  {
   "cell_type": "markdown",
   "metadata": {},
   "source": [
    "## Run a metaclassification"
   ]
  },
  {
   "cell_type": "code",
   "execution_count": 99,
   "metadata": {
    "collapsed": false
   },
   "outputs": [
    {
     "name": "stdout",
     "output_type": "stream",
     "text": [
      "Accuracy: 0.885 (+/- 0.100)\n"
     ]
    }
   ],
   "source": [
    "from sklearn import preprocessing\n",
    "\n",
    "label_encoder = preprocessing.LabelEncoder().fit(tags)\n",
    "\n",
    "scores = model_selection.cross_val_score(\n",
    "    estimator=ensemble.RandomForestClassifier(\n",
    "        n_estimators=30,\n",
    "        max_depth=6,\n",
    "        min_samples_leaf=2\n",
    "    ),\n",
    "    X=predictions.apply(label_encoder.transform, axis=1).values,\n",
    "    y=tags.reindex(predictions.index),\n",
    "    scoring='accuracy',\n",
    "    cv=5\n",
    ")\n",
    "\n",
    "print('Accuracy: %0.3f (+/- %0.3f)' % (scores.mean(), scores.std() * 1.96))"
   ]
  }
 ],
 "metadata": {
  "kernelspec": {
   "display_name": "Python 3",
   "language": "python",
   "name": "python3"
  },
  "language_info": {
   "codemirror_mode": {
    "name": "ipython",
    "version": 3
   },
   "file_extension": ".py",
   "mimetype": "text/x-python",
   "name": "python",
   "nbconvert_exporter": "python",
   "pygments_lexer": "ipython3",
   "version": "3.5.2"
  }
 },
 "nbformat": 4,
 "nbformat_minor": 0
}
