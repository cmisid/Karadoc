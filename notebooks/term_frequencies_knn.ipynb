{
 "cells": [
  {
   "cell_type": "markdown",
   "metadata": {},
   "source": [
    "# Classifying on term frequencies with a KNN"
   ]
  },
  {
   "cell_type": "code",
   "execution_count": 24,
   "metadata": {
    "collapsed": true
   },
   "outputs": [],
   "source": [
    "import pandas as pd\n",
    "\n",
    "df = pd.concat(\n",
    "    (\n",
    "        pd.read_csv('../features/metadata/tf_descriptions.csv', index_col=0),\n",
    "        pd.read_csv('../features/metadata/tf_keywords.csv', index_col=0),\n",
    "        #pd.read_csv('../features/metadata/tf_titles.csv', index_col=0),\n",
    "        #pd.read_csv('../features/trans/tf_trans.csv', index_col=0),\n",
    "    ),\n",
    "    axis=1\n",
    ")\n",
    "df = df.groupby(df.columns, axis=1).sum() # Drop duplicate columns\n",
    "df['tag'] = pd.read_csv('../features/tags.csv', index_col=0)['tag_name']\n",
    "\n",
    "y = df['tag']\n",
    "X = df.drop('tag', axis=1)"
   ]
  },
  {
   "cell_type": "code",
   "execution_count": 28,
   "metadata": {
    "collapsed": false
   },
   "outputs": [
    {
     "name": "stdout",
     "output_type": "stream",
     "text": [
      "Accuracy: 0.71 (+/- 0.29)\n"
     ]
    }
   ],
   "source": [
    "from sklearn import model_selection\n",
    "from sklearn import neighbors\n",
    "\n",
    "scores = model_selection.cross_val_score(\n",
    "    estimator=neighbors.KNeighborsClassifier(\n",
    "        n_neighbors=5,\n",
    "        metric='jaccard',\n",
    "    ),\n",
    "    X=X.values,\n",
    "    y=y,\n",
    "    scoring='accuracy',\n",
    "    cv=5\n",
    ")\n",
    "\n",
    "print('Accuracy: %0.2f (+/- %0.2f)' % (scores.mean(), scores.std() * 1.96))"
   ]
  },
  {
   "cell_type": "code",
   "execution_count": null,
   "metadata": {
    "collapsed": true
   },
   "outputs": [],
   "source": []
  }
 ],
 "metadata": {
  "kernelspec": {
   "display_name": "Python 3",
   "language": "python",
   "name": "python3"
  },
  "language_info": {
   "codemirror_mode": {
    "name": "ipython",
    "version": 3
   },
   "file_extension": ".py",
   "mimetype": "text/x-python",
   "name": "python",
   "nbconvert_exporter": "python",
   "pygments_lexer": "ipython3",
   "version": "3.5.2"
  }
 },
 "nbformat": 4,
 "nbformat_minor": 0
}
